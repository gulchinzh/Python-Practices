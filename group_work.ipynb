{
 "cells": [
  {
   "cell_type": "code",
   "execution_count": 11,
   "id": "20757b90",
   "metadata": {},
   "outputs": [
    {
     "data": {
      "text/plain": [
       "'Hello World'"
      ]
     },
     "execution_count": 11,
     "metadata": {},
     "output_type": "execute_result"
    }
   ],
   "source": [
    "s = \"Hello World\"\n",
    "s"
   ]
  },
  {
   "cell_type": "code",
   "execution_count": 20,
   "id": "38df3004",
   "metadata": {},
   "outputs": [
    {
     "data": {
      "text/plain": [
       "5"
      ]
     },
     "execution_count": 20,
     "metadata": {},
     "output_type": "execute_result"
    }
   ],
   "source": [
    "len(str.strip(s).split(' ', -1)[1])"
   ]
  },
  {
   "cell_type": "code",
   "execution_count": 21,
   "id": "9c9dfaf6",
   "metadata": {},
   "outputs": [
    {
     "data": {
      "text/plain": [
       "'Salam Dunya'"
      ]
     },
     "execution_count": 21,
     "metadata": {},
     "output_type": "execute_result"
    }
   ],
   "source": [
    "a = \"Salam Dunya\"\n",
    "a"
   ]
  },
  {
   "cell_type": "code",
   "execution_count": 27,
   "id": "54af615f",
   "metadata": {},
   "outputs": [
    {
     "data": {
      "text/plain": [
       "['Salam', 'Dunya']"
      ]
     },
     "execution_count": 27,
     "metadata": {},
     "output_type": "execute_result"
    }
   ],
   "source": [
    "str.strip(a).split(' ')"
   ]
  },
  {
   "cell_type": "code",
   "execution_count": 28,
   "id": "7b960463",
   "metadata": {},
   "outputs": [
    {
     "data": {
      "text/plain": [
       "'Dunya'"
      ]
     },
     "execution_count": 28,
     "metadata": {},
     "output_type": "execute_result"
    }
   ],
   "source": [
    "str.strip(a).split(' ')[1]"
   ]
  },
  {
   "cell_type": "code",
   "execution_count": 29,
   "id": "3cbc91fd",
   "metadata": {},
   "outputs": [
    {
     "data": {
      "text/plain": [
       "5"
      ]
     },
     "execution_count": 29,
     "metadata": {},
     "output_type": "execute_result"
    }
   ],
   "source": [
    "len(str.strip(a).split(' ')[1])"
   ]
  },
  {
   "cell_type": "markdown",
   "id": "04bbb8dd",
   "metadata": {},
   "source": [
    "### if elif els "
   ]
  },
  {
   "cell_type": "raw",
   "id": "1980a024",
   "metadata": {},
   "source": [
    "\n",
    "1. Given two int values, return their sum. Unless the two values are the same, then return double their sum."
   ]
  },
  {
   "cell_type": "code",
   "execution_count": null,
   "id": "748ddaf1",
   "metadata": {},
   "outputs": [],
   "source": [
    "def sum_double(a, b):\n",
    "  if a == b:\n",
    "    return (a+b)*2\n",
    "  else:\n",
    "    return a+b"
   ]
  },
  {
   "cell_type": "code",
   "execution_count": null,
   "id": "6257f6ab",
   "metadata": {},
   "outputs": [],
   "source": []
  },
  {
   "cell_type": "raw",
   "id": "c80ebce6",
   "metadata": {},
   "source": [
    "2. Given an int n, return the absolute difference between n and 21, except return double the absolute difference if n is over 21"
   ]
  },
  {
   "cell_type": "code",
   "execution_count": null,
   "id": "15de9cd5",
   "metadata": {},
   "outputs": [],
   "source": [
    "def diff21(n):\n",
    "  if n <= 21:\n",
    "    return 21 - n\n",
    "  else:\n",
    "    return (n - 21) * 2"
   ]
  },
  {
   "cell_type": "code",
   "execution_count": null,
   "id": "92282615",
   "metadata": {},
   "outputs": [],
   "source": []
  },
  {
   "cell_type": "raw",
   "id": "b3f3a1f3",
   "metadata": {},
   "source": [
    "3. \n",
    "We have a loud talking parrot. The \"hour\" parameter is the current hour time in the range 0..23. We are in trouble if the parrot is talking and the hour is before 7 or after 20. Return True if we are in trouble"
   ]
  },
  {
   "cell_type": "code",
   "execution_count": null,
   "id": "d94c8a51",
   "metadata": {},
   "outputs": [],
   "source": [
    "def parrot_trouble(talking, hour):\n",
    "  return (talking and (hour < 7 or hour > 20))"
   ]
  },
  {
   "cell_type": "code",
   "execution_count": null,
   "id": "1dca8e87",
   "metadata": {},
   "outputs": [],
   "source": []
  },
  {
   "cell_type": "raw",
   "id": "61876161",
   "metadata": {},
   "source": [
    "4. Given 2 ints, a and b, return True if one if them is 10 or if their sum is 10.\n",
    "\n"
   ]
  },
  {
   "cell_type": "code",
   "execution_count": null,
   "id": "3e8d6a79",
   "metadata": {},
   "outputs": [],
   "source": [
    "# 1 \n",
    "  def makes10(a, b):\n",
    "  if a == 10:\n",
    "    return True\n",
    "  elif b == 10:\n",
    "    return True\n",
    "  elif (a+b)==10:\n",
    "    return True\n",
    "  else:\n",
    "    return False\n",
    "\n",
    "# 2 \n",
    "  def makes10(a, b):\n",
    "  return (a == 10 or b == 10 or a+b == 10)"
   ]
  },
  {
   "cell_type": "code",
   "execution_count": null,
   "id": "194e3348",
   "metadata": {},
   "outputs": [],
   "source": []
  },
  {
   "cell_type": "raw",
   "id": "e9ccc70a",
   "metadata": {},
   "source": [
    "5. \n",
    "Given an int n, return True if it is within 10 of 100 or 200. Note: abs(num) computes the absolute value of a number"
   ]
  },
  {
   "cell_type": "code",
   "execution_count": null,
   "id": "626d2027",
   "metadata": {},
   "outputs": [],
   "source": [
    "def near_hundred(n):\n",
    "  return ((abs(100 - n) <= 10) or (abs(200 - n) <= 10))"
   ]
  },
  {
   "cell_type": "code",
   "execution_count": null,
   "id": "0d5094d3",
   "metadata": {},
   "outputs": [],
   "source": []
  },
  {
   "cell_type": "raw",
   "id": "dd0e9150",
   "metadata": {},
   "source": [
    "6.\n",
    "Given 2 int values, return True if one is negative and one is positive. Except if the parameter \"negative\" is True, then return True only if both are negative"
   ]
  },
  {
   "cell_type": "code",
   "execution_count": null,
   "id": "03d3edae",
   "metadata": {},
   "outputs": [],
   "source": [
    "def pos_neg(a, b, negative):\n",
    "  if negative:\n",
    "    return (a < 0 and b < 0)\n",
    "  else:\n",
    "    return ((a < 0 and b > 0) or (a > 0 and b < 0))"
   ]
  },
  {
   "cell_type": "code",
   "execution_count": null,
   "id": "da3612d4",
   "metadata": {},
   "outputs": [],
   "source": []
  },
  {
   "cell_type": "raw",
   "id": "0afa9cb8",
   "metadata": {},
   "source": [
    "7. Tesevvur et ki Uni-ye imtahan vermisen, eger yigdigin score un 50 ve ondan yuksekdirse qebul olmusan asagidirsa yox"
   ]
  },
  {
   "cell_type": "code",
   "execution_count": 46,
   "id": "73206052",
   "metadata": {},
   "outputs": [
    {
     "name": "stdout",
     "output_type": "stream",
     "text": [
      "Please enter your score : 44\n",
      "----------------------------\n",
      "Sorry, you have failed your exam \n"
     ]
    }
   ],
   "source": [
    "score = int(input('Please enter your score : '))\n",
    "print('----------------------------')\n",
    "\n",
    "if score > 100 or score < 0:\n",
    "    print('Score is Invalid')\n",
    "elif score >= 50:\n",
    "    print('You have passed your exams')\n",
    "    print('Congrats!!!')\n",
    "    \n",
    "else:\n",
    "    print('Sorry, you have failed your exam ')"
   ]
  },
  {
   "cell_type": "code",
   "execution_count": null,
   "id": "c3730bba",
   "metadata": {},
   "outputs": [],
   "source": []
  },
  {
   "cell_type": "code",
   "execution_count": 53,
   "id": "c05d7a0c",
   "metadata": {},
   "outputs": [
    {
     "name": "stdout",
     "output_type": "stream",
     "text": [
      "Enter the number please! :0\n",
      "-------------------------\n",
      "Number is zero\n"
     ]
    }
   ],
   "source": [
    "8. \n",
    "\n",
    "number = float(input('Enter the number please! :'))\n",
    "print('-------------------------')\n",
    "\n",
    "if number < 0:\n",
    "    print('Negative number')\n",
    "elif number > 0:\n",
    "    print('Positive number')\n",
    "else :\n",
    "    print('Number is zero')\n",
    "\n"
   ]
  },
  {
   "cell_type": "code",
   "execution_count": null,
   "id": "d39f97c1",
   "metadata": {},
   "outputs": [],
   "source": []
  },
  {
   "cell_type": "code",
   "execution_count": null,
   "id": "5cde82f6",
   "metadata": {},
   "outputs": [],
   "source": []
  },
  {
   "cell_type": "code",
   "execution_count": null,
   "id": "6995705e",
   "metadata": {},
   "outputs": [],
   "source": []
  },
  {
   "cell_type": "code",
   "execution_count": null,
   "id": "54d8c05a",
   "metadata": {},
   "outputs": [],
   "source": []
  },
  {
   "cell_type": "code",
   "execution_count": null,
   "id": "be4bf5dd",
   "metadata": {},
   "outputs": [],
   "source": []
  },
  {
   "cell_type": "code",
   "execution_count": null,
   "id": "3442e45b",
   "metadata": {},
   "outputs": [],
   "source": []
  },
  {
   "cell_type": "code",
   "execution_count": null,
   "id": "5622b49d",
   "metadata": {},
   "outputs": [],
   "source": []
  },
  {
   "cell_type": "code",
   "execution_count": null,
   "id": "889700c8",
   "metadata": {},
   "outputs": [],
   "source": []
  },
  {
   "cell_type": "code",
   "execution_count": null,
   "id": "d54aaeec",
   "metadata": {},
   "outputs": [],
   "source": []
  }
 ],
 "metadata": {
  "kernelspec": {
   "display_name": "Python 3",
   "language": "python",
   "name": "python3"
  },
  "language_info": {
   "codemirror_mode": {
    "name": "ipython",
    "version": 3
   },
   "file_extension": ".py",
   "mimetype": "text/x-python",
   "name": "python",
   "nbconvert_exporter": "python",
   "pygments_lexer": "ipython3",
   "version": "3.8.8"
  }
 },
 "nbformat": 4,
 "nbformat_minor": 5
}
