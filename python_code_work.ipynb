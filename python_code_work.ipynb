{
 "cells": [
  {
   "cell_type": "code",
   "execution_count": 11,
   "id": "e6e4a2b9",
   "metadata": {},
   "outputs": [
    {
     "data": {
      "text/plain": [
       "'Hello World'"
      ]
     },
     "execution_count": 11,
     "metadata": {},
     "output_type": "execute_result"
    }
   ],
   "source": [
    "s = \"Hello World\"\n",
    "s"
   ]
  },
  {
   "cell_type": "code",
   "execution_count": 20,
   "id": "c24e9bd7",
   "metadata": {},
   "outputs": [
    {
     "data": {
      "text/plain": [
       "5"
      ]
     },
     "execution_count": 20,
     "metadata": {},
     "output_type": "execute_result"
    }
   ],
   "source": [
    "len(str.strip(s).split(' ', -1)[1])"
   ]
  },
  {
   "cell_type": "code",
   "execution_count": 21,
   "id": "92d52d8b",
   "metadata": {},
   "outputs": [
    {
     "data": {
      "text/plain": [
       "'Salam Dunya'"
      ]
     },
     "execution_count": 21,
     "metadata": {},
     "output_type": "execute_result"
    }
   ],
   "source": [
    "a = \"Salam Dunya\"\n",
    "a"
   ]
  },
  {
   "cell_type": "code",
   "execution_count": 27,
   "id": "0bf4a13a",
   "metadata": {},
   "outputs": [
    {
     "data": {
      "text/plain": [
       "['Salam', 'Dunya']"
      ]
     },
     "execution_count": 27,
     "metadata": {},
     "output_type": "execute_result"
    }
   ],
   "source": [
    "str.strip(a).split(' ')"
   ]
  },
  {
   "cell_type": "code",
   "execution_count": 28,
   "id": "c7fa346b",
   "metadata": {},
   "outputs": [
    {
     "data": {
      "text/plain": [
       "'Dunya'"
      ]
     },
     "execution_count": 28,
     "metadata": {},
     "output_type": "execute_result"
    }
   ],
   "source": [
    "str.strip(a).split(' ')[1]"
   ]
  },
  {
   "cell_type": "code",
   "execution_count": 29,
   "id": "2c4dd7df",
   "metadata": {},
   "outputs": [
    {
     "data": {
      "text/plain": [
       "5"
      ]
     },
     "execution_count": 29,
     "metadata": {},
     "output_type": "execute_result"
    }
   ],
   "source": [
    "len(str.strip(a).split(' ')[1])"
   ]
  },
  {
   "cell_type": "markdown",
   "id": "18372ef9",
   "metadata": {},
   "source": [
    "### if elif els "
   ]
  },
  {
   "cell_type": "raw",
   "id": "5d6ee01c",
   "metadata": {},
   "source": [
    "\n",
    "1. Given two int values, return their sum. Unless the two values are the same, then return double their sum."
   ]
  },
  {
   "cell_type": "code",
   "execution_count": null,
   "id": "39802e2f",
   "metadata": {},
   "outputs": [],
   "source": [
    "def sum_double(a, b):\n",
    "  if a == b:\n",
    "    return (a+b)*2\n",
    "  else:\n",
    "    return a+b"
   ]
  },
  {
   "cell_type": "code",
   "execution_count": null,
   "id": "a964c8fb",
   "metadata": {},
   "outputs": [],
   "source": []
  },
  {
   "cell_type": "raw",
   "id": "445508c1",
   "metadata": {},
   "source": [
    "2. Given an int n, return the absolute difference between n and 21, except return double the absolute difference if n is over 21"
   ]
  },
  {
   "cell_type": "code",
   "execution_count": null,
   "id": "62dcb073",
   "metadata": {},
   "outputs": [],
   "source": [
    "def diff21(n):\n",
    "  if n <= 21:\n",
    "    return 21 - n\n",
    "  else:\n",
    "    return (n - 21) * 2"
   ]
  },
  {
   "cell_type": "code",
   "execution_count": null,
   "id": "33c23b93",
   "metadata": {},
   "outputs": [],
   "source": []
  },
  {
   "cell_type": "raw",
   "id": "945cdef0",
   "metadata": {},
   "source": [
    "3. \n",
    "We have a loud talking parrot. The \"hour\" parameter is the current hour time in the range 0..23. We are in trouble if the parrot is talking and the hour is before 7 or after 20. Return True if we are in trouble"
   ]
  },
  {
   "cell_type": "code",
   "execution_count": null,
   "id": "6771cd92",
   "metadata": {},
   "outputs": [],
   "source": [
    "def parrot_trouble(talking, hour):\n",
    "  return (talking and (hour < 7 or hour > 20))"
   ]
  },
  {
   "cell_type": "code",
   "execution_count": null,
   "id": "2ee02173",
   "metadata": {},
   "outputs": [],
   "source": []
  },
  {
   "cell_type": "raw",
   "id": "9150b62b",
   "metadata": {},
   "source": [
    "4. Given 2 ints, a and b, return True if one if them is 10 or if their sum is 10.\n",
    "\n"
   ]
  },
  {
   "cell_type": "code",
   "execution_count": null,
   "id": "93070bea",
   "metadata": {},
   "outputs": [],
   "source": [
    "# 1 \n",
    "  def makes10(a, b):\n",
    "  if a == 10:\n",
    "    return True\n",
    "  elif b == 10:\n",
    "    return True\n",
    "  elif (a+b)==10:\n",
    "    return True\n",
    "  else:\n",
    "    return False\n",
    "\n",
    "# 2 \n",
    "  def makes10(a, b):\n",
    "  return (a == 10 or b == 10 or a+b == 10)"
   ]
  },
  {
   "cell_type": "code",
   "execution_count": null,
   "id": "abe2fe39",
   "metadata": {},
   "outputs": [],
   "source": []
  },
  {
   "cell_type": "raw",
   "id": "67af43f1",
   "metadata": {},
   "source": [
    "5. \n",
    "Given an int n, return True if it is within 10 of 100 or 200. Note: abs(num) computes the absolute value of a number"
   ]
  },
  {
   "cell_type": "code",
   "execution_count": null,
   "id": "0d1461ce",
   "metadata": {},
   "outputs": [],
   "source": [
    "def near_hundred(n):\n",
    "  return ((abs(100 - n) <= 10) or (abs(200 - n) <= 10))"
   ]
  },
  {
   "cell_type": "code",
   "execution_count": null,
   "id": "d57b9838",
   "metadata": {},
   "outputs": [],
   "source": []
  },
  {
   "cell_type": "raw",
   "id": "19d680a7",
   "metadata": {},
   "source": [
    "6.\n",
    "Given 2 int values, return True if one is negative and one is positive. Except if the parameter \"negative\" is True, then return True only if both are negative"
   ]
  },
  {
   "cell_type": "code",
   "execution_count": null,
   "id": "8e5f86bf",
   "metadata": {},
   "outputs": [],
   "source": [
    "def pos_neg(a, b, negative):\n",
    "  if negative:\n",
    "    return (a < 0 and b < 0)\n",
    "  else:\n",
    "    return ((a < 0 and b > 0) or (a > 0 and b < 0))"
   ]
  },
  {
   "cell_type": "code",
   "execution_count": null,
   "id": "f1c0ebd7",
   "metadata": {},
   "outputs": [],
   "source": []
  },
  {
   "cell_type": "raw",
   "id": "cb083aa0",
   "metadata": {},
   "source": [
    "7. Tesevvur et ki Uni-ye imtahan vermisen, eger yigdigin score un 50 ve ondan yuksekdirse qebul olmusan asagidirsa yox"
   ]
  },
  {
   "cell_type": "code",
   "execution_count": 46,
   "id": "ce9b8f5b",
   "metadata": {},
   "outputs": [
    {
     "name": "stdout",
     "output_type": "stream",
     "text": [
      "Please enter your score : 44\n",
      "----------------------------\n",
      "Sorry, you have failed your exam \n"
     ]
    }
   ],
   "source": [
    "score = int(input('Please enter your score : '))\n",
    "print('----------------------------')\n",
    "\n",
    "if score > 100 or score < 0:\n",
    "    print('Score is Invalid')\n",
    "elif score >= 50:\n",
    "    print('You have passed your exams')\n",
    "    print('Congrats!!!')\n",
    "    \n",
    "else:\n",
    "    print('Sorry, you have failed your exam ')"
   ]
  },
  {
   "cell_type": "code",
   "execution_count": null,
   "id": "7f9c6e53",
   "metadata": {},
   "outputs": [],
   "source": []
  },
  {
   "cell_type": "code",
   "execution_count": 53,
   "id": "49005941",
   "metadata": {},
   "outputs": [
    {
     "name": "stdout",
     "output_type": "stream",
     "text": [
      "Enter the number please! :0\n",
      "-------------------------\n",
      "Number is zero\n"
     ]
    }
   ],
   "source": [
    "8. \n",
    "\n",
    "number = float(input('Enter the number please! :'))\n",
    "print('-------------------------')\n",
    "\n",
    "if number < 0:\n",
    "    print('Negative number')\n",
    "elif number > 0:\n",
    "    print('Positive number')\n",
    "else :\n",
    "    print('Number is zero')\n",
    "\n"
   ]
  },
  {
   "cell_type": "code",
   "execution_count": null,
   "id": "4b106783",
   "metadata": {},
   "outputs": [],
   "source": []
  },
  {
   "cell_type": "raw",
   "id": "a316c931",
   "metadata": {},
   "source": [
    "9. While Loop"
   ]
  },
  {
   "cell_type": "code",
   "execution_count": 54,
   "id": "a5fcf6aa",
   "metadata": {},
   "outputs": [
    {
     "name": "stdout",
     "output_type": "stream",
     "text": [
      "while loop\n",
      "while loop\n",
      "while loop\n",
      "while loop\n",
      "while loop\n"
     ]
    }
   ],
   "source": [
    "# a\n",
    "\n",
    "count = 0\n",
    "\n",
    "while count < 5:\n",
    "    print('while loop')\n",
    "    \n",
    "    count = count + 1"
   ]
  },
  {
   "cell_type": "code",
   "execution_count": 1,
   "id": "1efadbfb",
   "metadata": {
    "scrolled": true
   },
   "outputs": [
    {
     "name": "stdout",
     "output_type": "stream",
     "text": [
      "Enter number please! :7\n",
      "7 + 1 = 8\n",
      "7 + 2 = 9\n",
      "7 + 3 = 10\n",
      "7 + 4 = 11\n",
      "7 + 5 = 12\n",
      "7 + 6 = 13\n",
      "7 + 7 = 14\n",
      "7 + 8 = 15\n",
      "7 + 9 = 16\n",
      "7 + 10 = 17\n"
     ]
    }
   ],
   "source": [
    "# b\n",
    "number = int(input('Enter number please! :'))\n",
    "\n",
    "count = 1\n",
    "\n",
    "while count <= 10:\n",
    "    total = number + count\n",
    "    print(number , '+', count,'=', total)\n",
    "    count = count + 1"
   ]
  },
  {
   "cell_type": "code",
   "execution_count": 2,
   "id": "06341ebb",
   "metadata": {},
   "outputs": [
    {
     "name": "stdout",
     "output_type": "stream",
     "text": [
      "Enter number please! :6\n",
      "6 * 10 = 60\n",
      "6 * 9 = 54\n",
      "6 * 8 = 48\n",
      "6 * 7 = 42\n",
      "6 * 6 = 36\n",
      "6 * 5 = 30\n",
      "6 * 4 = 24\n",
      "6 * 3 = 18\n",
      "6 * 2 = 12\n",
      "6 * 1 = 6\n",
      "6 * 0 = 0\n"
     ]
    }
   ],
   "source": [
    "# c\n",
    "num = int(input('Enter number please! :'))\n",
    "\n",
    "count = 10\n",
    "\n",
    "while count >= 0:\n",
    "    total = num * count\n",
    "    print(num , '*', count, '=', total)\n",
    "    \n",
    "    count = count - 1"
   ]
  },
  {
   "cell_type": "code",
   "execution_count": null,
   "id": "941d0a06",
   "metadata": {},
   "outputs": [],
   "source": []
  },
  {
   "cell_type": "markdown",
   "id": "28ef5909",
   "metadata": {},
   "source": [
    "### For loop"
   ]
  },
  {
   "cell_type": "code",
   "execution_count": 3,
   "id": "e8847b5b",
   "metadata": {},
   "outputs": [
    {
     "name": "stdout",
     "output_type": "stream",
     "text": [
      "P\n",
      "y\n",
      "t\n",
      "h\n",
      "o\n",
      "n\n"
     ]
    }
   ],
   "source": [
    "text = 'Python' # herflere ayirdi\n",
    "\n",
    "for letter in text:\n",
    "    print(letter)"
   ]
  },
  {
   "cell_type": "code",
   "execution_count": null,
   "id": "7c0258f7",
   "metadata": {},
   "outputs": [],
   "source": []
  },
  {
   "cell_type": "code",
   "execution_count": 5,
   "id": "366ea743",
   "metadata": {},
   "outputs": [
    {
     "name": "stdout",
     "output_type": "stream",
     "text": [
      "John\n",
      "Sam\n",
      "Nike\n",
      "Mike\n"
     ]
    }
   ],
   "source": [
    "name = ['John', 'Sam', 'Nike','Mike']  # sozlere ayirdi\n",
    "\n",
    "for word in name:\n",
    "    print(word)"
   ]
  },
  {
   "cell_type": "code",
   "execution_count": null,
   "id": "726efdf4",
   "metadata": {},
   "outputs": [],
   "source": []
  },
  {
   "cell_type": "code",
   "execution_count": 6,
   "id": "313f52ea",
   "metadata": {},
   "outputs": [
    {
     "name": "stdout",
     "output_type": "stream",
     "text": [
      "1\n",
      "2\n",
      "3\n",
      "4\n",
      "5\n",
      "6\n"
     ]
    }
   ],
   "source": [
    "count = 1\n",
    "\n",
    "while count <= 6:\n",
    "    print(count)\n",
    "    count = count + 1 "
   ]
  },
  {
   "cell_type": "code",
   "execution_count": 12,
   "id": "89627825",
   "metadata": {},
   "outputs": [
    {
     "name": "stdout",
     "output_type": "stream",
     "text": [
      "1\n",
      "2\n",
      "3\n",
      "4\n",
      "5\n",
      "6\n"
     ]
    }
   ],
   "source": [
    "for count in range(1,7):\n",
    "    print(count)"
   ]
  },
  {
   "cell_type": "code",
   "execution_count": null,
   "id": "262890ba",
   "metadata": {},
   "outputs": [],
   "source": []
  },
  {
   "cell_type": "code",
   "execution_count": 13,
   "id": "6e72af5b",
   "metadata": {},
   "outputs": [
    {
     "name": "stdout",
     "output_type": "stream",
     "text": [
      "Enter number! : 5\n",
      "1 x 5 = 5\n",
      "2 x 5 = 10\n",
      "3 x 5 = 15\n",
      "4 x 5 = 20\n",
      "5 x 5 = 25\n",
      "6 x 5 = 30\n",
      "7 x 5 = 35\n",
      "8 x 5 = 40\n",
      "9 x 5 = 45\n",
      "10 x 5 = 50\n"
     ]
    }
   ],
   "source": [
    "num = int(input('Enter number! : '))\n",
    "\n",
    "for count in range(1,11):\n",
    "    total = count * num\n",
    "    print(count, 'x' , num, '=' , total)"
   ]
  },
  {
   "cell_type": "code",
   "execution_count": null,
   "id": "c4a8ebfe",
   "metadata": {},
   "outputs": [],
   "source": []
  },
  {
   "cell_type": "code",
   "execution_count": 40,
   "id": "75da8ddb",
   "metadata": {},
   "outputs": [
    {
     "name": "stdout",
     "output_type": "stream",
     "text": [
      "The sum is 48\n"
     ]
    }
   ],
   "source": [
    "# Program to find the sum of all numbers stored in a list\n",
    "\n",
    "# List of numbers\n",
    "numbers = [6, 5, 3, 8, 4, 2, 5, 4, 11]\n",
    "\n",
    "# variable to store the sum\n",
    "sum = 0\n",
    "\n",
    "# iterate over the list\n",
    "for i in numbers:\n",
    "    sum = sum+i\n",
    "\n",
    "print(\"The sum is\", sum)"
   ]
  },
  {
   "cell_type": "code",
   "execution_count": null,
   "id": "a8be7645",
   "metadata": {},
   "outputs": [],
   "source": []
  },
  {
   "cell_type": "code",
   "execution_count": 41,
   "id": "6f6d873b",
   "metadata": {},
   "outputs": [
    {
     "name": "stdout",
     "output_type": "stream",
     "text": [
      "range(0, 10)\n",
      "[0, 1, 2, 3, 4, 5, 6, 7, 8, 9]\n",
      "[2, 3, 4, 5, 6, 7]\n",
      "[2, 5, 8, 11, 14, 17]\n"
     ]
    }
   ],
   "source": [
    "print(range(10))\n",
    "\n",
    "print(list(range(10)))\n",
    "\n",
    "print(list(range(2, 8)))\n",
    "\n",
    "print(list(range(2, 20, 3)))"
   ]
  },
  {
   "cell_type": "code",
   "execution_count": null,
   "id": "81237749",
   "metadata": {},
   "outputs": [],
   "source": []
  },
  {
   "cell_type": "code",
   "execution_count": 42,
   "id": "0c255c6a",
   "metadata": {},
   "outputs": [
    {
     "name": "stdout",
     "output_type": "stream",
     "text": [
      "I like pop\n",
      "I like rock\n",
      "I like jazz\n"
     ]
    }
   ],
   "source": [
    "# Program to iterate through a list using indexing\n",
    "\n",
    "genre = ['pop', 'rock', 'jazz']\n",
    "\n",
    "# iterate over the list using index\n",
    "for i in range(len(genre)):\n",
    "    print(\"I like\", genre[i])"
   ]
  },
  {
   "cell_type": "code",
   "execution_count": null,
   "id": "d9d56683",
   "metadata": {},
   "outputs": [],
   "source": []
  },
  {
   "cell_type": "code",
   "execution_count": 43,
   "id": "ee93f9b3",
   "metadata": {},
   "outputs": [
    {
     "name": "stdout",
     "output_type": "stream",
     "text": [
      "No entry with that name found.\n"
     ]
    }
   ],
   "source": [
    "# program to display student's marks from record\n",
    "student_name = 'Soyuj'\n",
    "\n",
    "marks = {'James': 90, 'Jules': 55, 'Arthur': 77}\n",
    "\n",
    "for student in marks:\n",
    "    if student == student_name:\n",
    "        print(marks[student])\n",
    "        break\n",
    "else:\n",
    "    print('No entry with that name found.')"
   ]
  },
  {
   "cell_type": "code",
   "execution_count": 49,
   "id": "861b5977",
   "metadata": {},
   "outputs": [
    {
     "name": "stdout",
     "output_type": "stream",
     "text": [
      "55\n"
     ]
    }
   ],
   "source": [
    "# program to display student's marks from record\n",
    "student_name = 'Jules'\n",
    "\n",
    "marks = {'James': 90, 'Jules': 55, 'Arthur': 77}\n",
    "\n",
    "for student in marks:\n",
    "    if student == student_name:\n",
    "        print(marks[student])\n",
    "        break\n",
    "else:\n",
    "    print('No entry with that name found.')"
   ]
  },
  {
   "cell_type": "code",
   "execution_count": null,
   "id": "b3412fa0",
   "metadata": {},
   "outputs": [],
   "source": []
  },
  {
   "cell_type": "code",
   "execution_count": 44,
   "id": "c68e0cf4",
   "metadata": {},
   "outputs": [
    {
     "name": "stdout",
     "output_type": "stream",
     "text": [
      "0\n",
      "1\n",
      "5\n",
      "No items left.\n"
     ]
    }
   ],
   "source": [
    "digits = [0, 1, 5]\n",
    "\n",
    "for i in digits:\n",
    "    print(i)\n",
    "else:\n",
    "    print(\"No items left.\")"
   ]
  },
  {
   "cell_type": "code",
   "execution_count": null,
   "id": "c985980e",
   "metadata": {},
   "outputs": [],
   "source": []
  },
  {
   "cell_type": "code",
   "execution_count": 50,
   "id": "f8e35158",
   "metadata": {},
   "outputs": [
    {
     "name": "stdout",
     "output_type": "stream",
     "text": [
      "0 A\n",
      "1 B\n",
      "2 C\n"
     ]
    }
   ],
   "source": [
    "for i,x in enumerate(['A','B','C']):\n",
    "    print(i,x)"
   ]
  },
  {
   "cell_type": "code",
   "execution_count": null,
   "id": "8ad3aaeb",
   "metadata": {},
   "outputs": [],
   "source": []
  },
  {
   "cell_type": "code",
   "execution_count": 51,
   "id": "c2fda648",
   "metadata": {},
   "outputs": [
    {
     "ename": "ValueError",
     "evalue": "too many values to unpack (expected 2)",
     "output_type": "error",
     "traceback": [
      "\u001b[1;31m---------------------------------------------------------------------------\u001b[0m",
      "\u001b[1;31mValueError\u001b[0m                                Traceback (most recent call last)",
      "\u001b[1;32m<ipython-input-51-9f383962fa23>\u001b[0m in \u001b[0;36m<module>\u001b[1;34m\u001b[0m\n\u001b[0;32m      1\u001b[0m \u001b[0malist\u001b[0m \u001b[1;33m=\u001b[0m \u001b[1;33m[\u001b[0m\u001b[1;34m'alma'\u001b[0m\u001b[1;33m,\u001b[0m\u001b[1;34m'heyva'\u001b[0m\u001b[1;33m,\u001b[0m\u001b[1;34m'nar'\u001b[0m\u001b[1;33m,\u001b[0m\u001b[1;34m'gilas'\u001b[0m\u001b[1;33m,\u001b[0m\u001b[1;34m'armud'\u001b[0m\u001b[1;33m]\u001b[0m\u001b[1;33m\u001b[0m\u001b[1;33m\u001b[0m\u001b[0m\n\u001b[0;32m      2\u001b[0m \u001b[1;33m\u001b[0m\u001b[0m\n\u001b[1;32m----> 3\u001b[1;33m \u001b[1;32mfor\u001b[0m \u001b[0mx\u001b[0m\u001b[1;33m,\u001b[0m\u001b[0mmeyve\u001b[0m \u001b[1;32min\u001b[0m \u001b[0malist\u001b[0m\u001b[1;33m:\u001b[0m\u001b[1;33m\u001b[0m\u001b[1;33m\u001b[0m\u001b[0m\n\u001b[0m\u001b[0;32m      4\u001b[0m     \u001b[0mprint\u001b[0m\u001b[1;33m(\u001b[0m\u001b[0mx\u001b[0m\u001b[1;33m,\u001b[0m\u001b[0mmeyve\u001b[0m\u001b[1;33m)\u001b[0m\u001b[1;33m\u001b[0m\u001b[1;33m\u001b[0m\u001b[0m\n",
      "\u001b[1;31mValueError\u001b[0m: too many values to unpack (expected 2)"
     ]
    }
   ],
   "source": [
    "alist = ['alma','heyva','nar','gilas','armud']\n",
    "\n",
    "for x,meyve in enualist:\n",
    "    print(x,meyve)"
   ]
  },
  {
   "cell_type": "code",
   "execution_count": null,
   "id": "3f305062",
   "metadata": {},
   "outputs": [],
   "source": []
  },
  {
   "cell_type": "code",
   "execution_count": null,
   "id": "df193533",
   "metadata": {},
   "outputs": [],
   "source": []
  },
  {
   "cell_type": "code",
   "execution_count": null,
   "id": "ea6d1895",
   "metadata": {},
   "outputs": [],
   "source": []
  },
  {
   "cell_type": "code",
   "execution_count": null,
   "id": "317fa600",
   "metadata": {},
   "outputs": [],
   "source": []
  },
  {
   "cell_type": "code",
   "execution_count": null,
   "id": "caad3967",
   "metadata": {},
   "outputs": [],
   "source": []
  },
  {
   "cell_type": "code",
   "execution_count": null,
   "id": "5cbe7b16",
   "metadata": {},
   "outputs": [],
   "source": []
  },
  {
   "cell_type": "code",
   "execution_count": null,
   "id": "b6f297a3",
   "metadata": {},
   "outputs": [],
   "source": []
  }
 ],
 "metadata": {
  "kernelspec": {
   "display_name": "Python 3",
   "language": "python",
   "name": "python3"
  },
  "language_info": {
   "codemirror_mode": {
    "name": "ipython",
    "version": 3
   },
   "file_extension": ".py",
   "mimetype": "text/x-python",
   "name": "python",
   "nbconvert_exporter": "python",
   "pygments_lexer": "ipython3",
   "version": "3.8.8"
  }
 },
 "nbformat": 4,
 "nbformat_minor": 5
}
